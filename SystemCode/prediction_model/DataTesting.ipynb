{
 "cells": [
  {
   "cell_type": "code",
   "execution_count": 2,
   "metadata": {},
   "outputs": [
    {
     "name": "stdout",
     "output_type": "stream",
     "text": [
      "                        Street Address  Address Latitude  Address Longitude  \\\n",
      "0         bishan street 22 (block 232)          1.358286         103.845226   \n",
      "1         bishan street 22 (block 233)          1.358639         103.845259   \n",
      "2         bishan street 22 (block 234)          1.358390         103.845955   \n",
      "3         bishan street 22 (block 235)          1.358719         103.846477   \n",
      "4         bishan street 22 (block 236)          1.359041         103.846849   \n",
      "...                                ...               ...                ...   \n",
      "56964       simei street 4 (block 234)          1.343434         103.955341   \n",
      "56968        stirling road (block 169)          1.290476         103.803114   \n",
      "56969  tampines street 45 (block 492d)          1.363751         103.953811   \n",
      "56970  tampines street 45 (block 494j)          1.364231         103.954394   \n",
      "56972   tampines street 71 (block 716)          1.359482         103.936586   \n",
      "\n",
      "       postal_code  postal_street_name  postal_lat  postal_lon  \\\n",
      "0           570232    Bishan Street 22      1.3582    103.8456   \n",
      "1           570233    Bishan Street 22      1.3586    103.8456   \n",
      "2           570234    Bishan Street 22      1.3583    103.8462   \n",
      "3           570235    Bishan Street 22      1.3585    103.8465   \n",
      "4           570236    Bishan Street 22      1.3590    103.8470   \n",
      "...            ...                 ...         ...         ...   \n",
      "56964       520234      Simei Street 4      1.3435    103.9554   \n",
      "56968       140169       Stirling Road      1.2904    103.8031   \n",
      "56969       523492  Tampines Street 45      1.3639    103.9541   \n",
      "56970       529494  Tampines Street 45      1.3641    103.9543   \n",
      "56972       520716  Tampines Street 71      1.3594    103.9366   \n",
      "\n",
      "       distance_meters  \n",
      "0            42.660816  \n",
      "1            38.165106  \n",
      "2            29.015542  \n",
      "3            24.486706  \n",
      "4            17.393806  \n",
      "...                ...  \n",
      "56964         9.842533  \n",
      "56968         8.592930  \n",
      "56969        36.146850  \n",
      "56970        17.926882  \n",
      "56972         9.249847  \n",
      "\n",
      "[9800 rows x 8 columns]\n"
     ]
    }
   ],
   "source": [
    "import pickle\n",
    "\n",
    "# Load the combined_data.pkl file\n",
    "with open('../backend/combined_data.pkl', 'rb') as file:\n",
    "    data = pickle.load(file)\n",
    "\n",
    "# Print the 'address_postal_code_mapping' from the data\n",
    "print(data['address_postal_code_mapping'])\n"
   ]
  },
  {
   "cell_type": "code",
   "execution_count": 24,
   "metadata": {},
   "outputs": [
    {
     "name": "stdout",
     "output_type": "stream",
     "text": [
      "Defaulting to user installation because normal site-packages is not writeable\n",
      "Requirement already satisfied: scikit-learn in /Users/bytedance/Library/Python/3.13/lib/python/site-packages (1.6.1)\n",
      "Requirement already satisfied: numpy>=1.19.5 in /Library/Frameworks/Python.framework/Versions/3.13/lib/python3.13/site-packages (from scikit-learn) (2.2.1)\n",
      "Requirement already satisfied: scipy>=1.6.0 in /Users/bytedance/Library/Python/3.13/lib/python/site-packages (from scikit-learn) (1.15.2)\n",
      "Requirement already satisfied: joblib>=1.2.0 in /Users/bytedance/Library/Python/3.13/lib/python/site-packages (from scikit-learn) (1.4.2)\n",
      "Requirement already satisfied: threadpoolctl>=3.1.0 in /Users/bytedance/Library/Python/3.13/lib/python/site-packages (from scikit-learn) (3.6.0)\n",
      "['gpr' 'area_sqm' 'overall_humidity_score' 'overall_rain_score'\n",
      " 'AGRICULTURE' 'BUSINESS 1' 'BUSINESS 2' 'BUSINESS PARK' 'CEMETERY'\n",
      " 'CIVIC & COMMUNITY INSTITUTION' 'COMMERCIAL' 'COMMERCIAL & RESIDENTIAL'\n",
      " 'EDUCATIONAL INSTITUTION' 'HEALTH & MEDICAL CARE' 'HOTEL' 'INSTITUTION'\n",
      " 'LIGHT RAPID TRANSIT' 'MASS RAPID TRANSIT' 'OPEN SPACE' 'PARK'\n",
      " 'PLACE OF WORSHIP' 'RESERVE SITE' 'RESIDENTIAL'\n",
      " 'RESIDENTIAL WITH COMMERCIAL AT 1ST STOREY' 'ROAD' 'SPORTS & RECREATION'\n",
      " 'TRANSPORT FACILITIES' 'UTILITY' 'WATERBODY' 'WHITE']\n"
     ]
    },
    {
     "name": "stderr",
     "output_type": "stream",
     "text": [
      "/Users/bytedance/Library/Python/3.13/lib/python/site-packages/sklearn/base.py:380: InconsistentVersionWarning: Trying to unpickle estimator DecisionTreeRegressor from version 1.5.1 when using version 1.6.1. This might lead to breaking code or invalid results. Use at your own risk. For more info please refer to:\n",
      "https://scikit-learn.org/stable/model_persistence.html#security-maintainability-limitations\n",
      "  warnings.warn(\n",
      "/Users/bytedance/Library/Python/3.13/lib/python/site-packages/sklearn/base.py:380: InconsistentVersionWarning: Trying to unpickle estimator RandomForestRegressor from version 1.5.1 when using version 1.6.1. This might lead to breaking code or invalid results. Use at your own risk. For more info please refer to:\n",
      "https://scikit-learn.org/stable/model_persistence.html#security-maintainability-limitations\n",
      "  warnings.warn(\n"
     ]
    }
   ],
   "source": [
    "!pip install scikit-learn\n",
    "import sklearn\n",
    "\n",
    "# Load the dengue_RFR_model.pkl file\n",
    "with open('../backend/dengue_RFR_model.pkl', 'rb') as model_file:\n",
    "    dengue_model = pickle.load(model_file)\n",
    "\n",
    "# Check the feature names in the model\n",
    "if hasattr(dengue_model, 'feature_names_in_'):\n",
    "    print(dengue_model.feature_names_in_)\n",
    "else:\n",
    "    print(\"The model does not have 'feature_names_in_' attribute.\")\n"
   ]
  }
 ],
 "metadata": {
  "kernelspec": {
   "display_name": "Python 3",
   "language": "python",
   "name": "python3"
  },
  "language_info": {
   "codemirror_mode": {
    "name": "ipython",
    "version": 3
   },
   "file_extension": ".py",
   "mimetype": "text/x-python",
   "name": "python",
   "nbconvert_exporter": "python",
   "pygments_lexer": "ipython3",
   "version": "3.13.0"
  }
 },
 "nbformat": 4,
 "nbformat_minor": 2
}
