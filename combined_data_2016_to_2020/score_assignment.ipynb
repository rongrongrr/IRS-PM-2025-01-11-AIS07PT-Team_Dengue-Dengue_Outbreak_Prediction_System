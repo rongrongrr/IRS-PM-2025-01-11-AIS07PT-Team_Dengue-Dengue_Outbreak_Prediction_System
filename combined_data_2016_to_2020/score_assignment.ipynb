{
 "cells": [
  {
   "cell_type": "code",
   "execution_count": null,
   "id": "019bb674",
   "metadata": {},
   "outputs": [
    {
     "name": "stderr",
     "output_type": "stream",
     "text": [
      "/var/folders/nv/33bw_zwj2j9c3rmfd18wx0dh0000gp/T/ipykernel_84495/1752348541.py:27: FutureWarning: A value is trying to be set on a copy of a DataFrame or Series through chained assignment using an inplace method.\n",
      "The behavior will change in pandas 3.0. This inplace method will never work because the intermediate object on which we are setting values always behaves as a copy.\n",
      "\n",
      "For example, when doing 'df[col].method(value, inplace=True)', try using 'df.method({col: value}, inplace=True)' or df[col] = df[col].method(value) instead, to perform the operation inplace on the original object.\n",
      "\n",
      "\n",
      "  merged[\"overall_rain_score\"].fillna(0, inplace=True)\n",
      "/var/folders/nv/33bw_zwj2j9c3rmfd18wx0dh0000gp/T/ipykernel_84495/1752348541.py:28: FutureWarning: A value is trying to be set on a copy of a DataFrame or Series through chained assignment using an inplace method.\n",
      "The behavior will change in pandas 3.0. This inplace method will never work because the intermediate object on which we are setting values always behaves as a copy.\n",
      "\n",
      "For example, when doing 'df[col].method(value, inplace=True)', try using 'df.method({col: value}, inplace=True)' or df[col] = df[col].method(value) instead, to perform the operation inplace on the original object.\n",
      "\n",
      "\n",
      "  merged[\"overall_humidity_score\"].fillna(0, inplace=True)\n"
     ]
    }
   ],
   "source": [
    "import pandas as pd\n",
    "\n",
    "# 1) Read CSVs\n",
    "landuse_df   = pd.read_csv(\"landuse_station_mapping.csv\")\n",
    "rain_df      = pd.read_csv(\"station_rainfall_scores.csv\")\n",
    "humidity_df  = pd.read_csv(\"station_humidity_scores.csv\")\n",
    "\n",
    "# 2) Select only the columns we need from the score table in each data frame\n",
    "rain_scores     = rain_df[[\"station_id\", \"overall_rain_score\"]]\n",
    "humidity_scores = humidity_df[[\"station_id\", \"overall_humidity_score\"]]\n",
    "\n",
    "# 3) Merge scores into your landuse mapping\n",
    "merged = (\n",
    "    landuse_df\n",
    "      .merge(rain_scores,\n",
    "             on=\"station_id\",\n",
    "             how=\"left\")   # left‑join keeps all landuse rows\n",
    "      .merge(humidity_scores,\n",
    "             on=\"station_id\",\n",
    "             how=\"left\")   # another left‑join adds humidity\n",
    ")\n",
    "\n",
    "# 4) Inspect the result\n",
    "merged.head()\n",
    "\n",
    "# 5) (Optional) Fill missing scores with something\n",
    "merged[\"overall_rain_score\"].fillna(0, inplace=True)\n",
    "merged[\"overall_humidity_score\"].fillna(0, inplace=True)\n",
    "\n",
    "# 6) Save out to a new file\n",
    "merged.to_csv(\"landuse_with_scores.csv\", index=False)"
   ]
  },
  {
   "cell_type": "code",
   "execution_count": 2,
   "id": "c2ec6434",
   "metadata": {},
   "outputs": [
    {
     "name": "stdout",
     "output_type": "stream",
     "text": [
      "Total rows in mapping file:          112833\n",
      "Total distinct stations mapped:      63\n",
      "\n",
      "Rows with zero rainfall score:       0\n",
      "Rows with zero humidity score:       95679\n",
      "\n",
      "Distinct stations with zero rain:    0\n",
      "Distinct stations with zero humid.:  50\n",
      "\n",
      "Score column summary statistics:\n",
      "       overall_rain_score  overall_humidity_score\n",
      "count       112833.000000           112833.000000\n",
      "mean             0.733761                0.057668\n",
      "std              0.124938                0.147941\n",
      "min              0.462024                0.000000\n",
      "25%              0.638362                0.000000\n",
      "50%              0.707878                0.000000\n",
      "75%              0.857187                0.000000\n",
      "max              1.000000                1.000000\n"
     ]
    }
   ],
   "source": [
    "import pandas as pd\n",
    "\n",
    "# 1) Load the enriched CSV\n",
    "df = pd.read_csv(\"landuse_with_scores.csv\")\n",
    "\n",
    "# 2) Totals\n",
    "total_rows       = len(df)                                 # total mapping entries (rows)\n",
    "total_stations   = df[\"station_id\"].nunique()              # distinct stations\n",
    "\n",
    "# 3) Zero‐score counts (row‑level)\n",
    "zero_rain_rows     = (df[\"overall_rain_score\"] == 0).sum()\n",
    "zero_humid_rows    = (df[\"overall_humidity_score\"] == 0).sum()\n",
    "\n",
    "# 4) Zero‐score counts (station‑level)\n",
    "stations_zero_rain  = df.loc[df[\"overall_rain_score\"] == 0, \"station_id\"].nunique()\n",
    "stations_zero_humid = df.loc[df[\"overall_humidity_score\"] == 0, \"station_id\"].nunique()\n",
    "\n",
    "# 5) Quick descriptive stats on the score columns\n",
    "score_stats = df[[\"overall_rain_score\", \"overall_humidity_score\"]].describe()\n",
    "\n",
    "# 6) Print out\n",
    "print(f\"Total rows in mapping file:          {total_rows}\")\n",
    "print(f\"Total distinct stations mapped:      {total_stations}\\n\")\n",
    "\n",
    "print(f\"Rows with zero rainfall score:       {zero_rain_rows}\")\n",
    "print(f\"Rows with zero humidity score:       {zero_humid_rows}\\n\")\n",
    "\n",
    "print(f\"Distinct stations with zero rain:    {stations_zero_rain}\")\n",
    "print(f\"Distinct stations with zero humid.:  {stations_zero_humid}\\n\")\n",
    "\n",
    "print(\"Score column summary statistics:\")\n",
    "print(score_stats)"
   ]
  }
 ],
 "metadata": {
  "kernelspec": {
   "display_name": "nus_base",
   "language": "python",
   "name": "python3"
  },
  "language_info": {
   "codemirror_mode": {
    "name": "ipython",
    "version": 3
   },
   "file_extension": ".py",
   "mimetype": "text/x-python",
   "name": "python",
   "nbconvert_exporter": "python",
   "pygments_lexer": "ipython3",
   "version": "3.13.2"
  }
 },
 "nbformat": 4,
 "nbformat_minor": 5
}
