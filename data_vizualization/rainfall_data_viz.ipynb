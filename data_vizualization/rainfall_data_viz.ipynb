{
 "cells": [
  {
   "cell_type": "code",
   "execution_count": 22,
   "id": "e22509e0-e15e-42d9-9b0d-ab3e655de540",
   "metadata": {},
   "outputs": [
    {
     "name": "stdout",
     "output_type": "stream",
     "text": [
      "Requirement already satisfied: pandas in /Users/velu/miniconda3/envs/nus_base/lib/python3.13/site-packages (2.2.3)\n",
      "Requirement already satisfied: matplotlib in /Users/velu/miniconda3/envs/nus_base/lib/python3.13/site-packages (3.10.1)\n",
      "Requirement already satisfied: seaborn in /Users/velu/miniconda3/envs/nus_base/lib/python3.13/site-packages (0.13.2)\n",
      "Requirement already satisfied: folium in /Users/velu/miniconda3/envs/nus_base/lib/python3.13/site-packages (0.19.5)\n",
      "Requirement already satisfied: numpy>=1.26.0 in /Users/velu/miniconda3/envs/nus_base/lib/python3.13/site-packages (from pandas) (2.2.4)\n",
      "Requirement already satisfied: python-dateutil>=2.8.2 in /Users/velu/miniconda3/envs/nus_base/lib/python3.13/site-packages (from pandas) (2.9.0.post0)\n",
      "Requirement already satisfied: pytz>=2020.1 in /Users/velu/miniconda3/envs/nus_base/lib/python3.13/site-packages (from pandas) (2025.1)\n",
      "Requirement already satisfied: tzdata>=2022.7 in /Users/velu/miniconda3/envs/nus_base/lib/python3.13/site-packages (from pandas) (2025.1)\n",
      "Requirement already satisfied: contourpy>=1.0.1 in /Users/velu/miniconda3/envs/nus_base/lib/python3.13/site-packages (from matplotlib) (1.3.1)\n",
      "Requirement already satisfied: cycler>=0.10 in /Users/velu/miniconda3/envs/nus_base/lib/python3.13/site-packages (from matplotlib) (0.12.1)\n",
      "Requirement already satisfied: fonttools>=4.22.0 in /Users/velu/miniconda3/envs/nus_base/lib/python3.13/site-packages (from matplotlib) (4.56.0)\n",
      "Requirement already satisfied: kiwisolver>=1.3.1 in /Users/velu/miniconda3/envs/nus_base/lib/python3.13/site-packages (from matplotlib) (1.4.8)\n",
      "Requirement already satisfied: packaging>=20.0 in /Users/velu/miniconda3/envs/nus_base/lib/python3.13/site-packages (from matplotlib) (24.2)\n",
      "Requirement already satisfied: pillow>=8 in /Users/velu/miniconda3/envs/nus_base/lib/python3.13/site-packages (from matplotlib) (11.1.0)\n",
      "Requirement already satisfied: pyparsing>=2.3.1 in /Users/velu/miniconda3/envs/nus_base/lib/python3.13/site-packages (from matplotlib) (3.2.1)\n",
      "Requirement already satisfied: branca>=0.6.0 in /Users/velu/miniconda3/envs/nus_base/lib/python3.13/site-packages (from folium) (0.8.1)\n",
      "Requirement already satisfied: jinja2>=2.9 in /Users/velu/miniconda3/envs/nus_base/lib/python3.13/site-packages (from folium) (3.1.6)\n",
      "Requirement already satisfied: requests in /Users/velu/miniconda3/envs/nus_base/lib/python3.13/site-packages (from folium) (2.32.3)\n",
      "Requirement already satisfied: xyzservices in /Users/velu/miniconda3/envs/nus_base/lib/python3.13/site-packages (from folium) (2025.1.0)\n",
      "Requirement already satisfied: MarkupSafe>=2.0 in /Users/velu/miniconda3/envs/nus_base/lib/python3.13/site-packages (from jinja2>=2.9->folium) (3.0.2)\n",
      "Requirement already satisfied: six>=1.5 in /Users/velu/miniconda3/envs/nus_base/lib/python3.13/site-packages (from python-dateutil>=2.8.2->pandas) (1.17.0)\n",
      "Requirement already satisfied: charset-normalizer<4,>=2 in /Users/velu/miniconda3/envs/nus_base/lib/python3.13/site-packages (from requests->folium) (3.4.1)\n",
      "Requirement already satisfied: idna<4,>=2.5 in /Users/velu/miniconda3/envs/nus_base/lib/python3.13/site-packages (from requests->folium) (3.10)\n",
      "Requirement already satisfied: urllib3<3,>=1.21.1 in /Users/velu/miniconda3/envs/nus_base/lib/python3.13/site-packages (from requests->folium) (2.3.0)\n",
      "Requirement already satisfied: certifi>=2017.4.17 in /Users/velu/miniconda3/envs/nus_base/lib/python3.13/site-packages (from requests->folium) (2025.1.31)\n",
      "Note: you may need to restart the kernel to use updated packages.\n"
     ]
    }
   ],
   "source": [
    "pip install pandas matplotlib seaborn folium"
   ]
  },
  {
   "cell_type": "markdown",
   "id": "8d75baaf",
   "metadata": {},
   "source": [
    "### rainfall data viz ###"
   ]
  },
  {
   "cell_type": "code",
   "execution_count": 23,
   "id": "4db2ff2c-763b-49b3-ba00-f17c538d46fd",
   "metadata": {},
   "outputs": [],
   "source": [
    "import pandas as pd\n",
    "import matplotlib.pyplot as plt\n",
    "import seaborn as sns\n",
    "import folium\n",
    "from folium.plugins import HeatMap\n",
    "\n",
    "# Optional for larger visualizations\n",
    "%matplotlib inline\n",
    "plt.rcParams['figure.figsize'] = (12, 6)"
   ]
  },
  {
   "cell_type": "code",
   "execution_count": 24,
   "id": "b9904d2a-abaa-4781-be1a-f1dcb5b95b60",
   "metadata": {},
   "outputs": [
    {
     "data": {
      "text/html": [
       "<div>\n",
       "<style scoped>\n",
       "    .dataframe tbody tr th:only-of-type {\n",
       "        vertical-align: middle;\n",
       "    }\n",
       "\n",
       "    .dataframe tbody tr th {\n",
       "        vertical-align: top;\n",
       "    }\n",
       "\n",
       "    .dataframe thead th {\n",
       "        text-align: right;\n",
       "    }\n",
       "</style>\n",
       "<table border=\"1\" class=\"dataframe\">\n",
       "  <thead>\n",
       "    <tr style=\"text-align: right;\">\n",
       "      <th></th>\n",
       "      <th>day</th>\n",
       "      <th>station_id</th>\n",
       "      <th>station_name</th>\n",
       "      <th>latitude</th>\n",
       "      <th>longitude</th>\n",
       "      <th>total_rainfall</th>\n",
       "    </tr>\n",
       "  </thead>\n",
       "  <tbody>\n",
       "    <tr>\n",
       "      <th>0</th>\n",
       "      <td>2022-01-01</td>\n",
       "      <td>S08</td>\n",
       "      <td>Upper Thomson Road</td>\n",
       "      <td>1.37010</td>\n",
       "      <td>103.82710</td>\n",
       "      <td>36.8</td>\n",
       "    </tr>\n",
       "    <tr>\n",
       "      <th>1</th>\n",
       "      <td>2022-01-01</td>\n",
       "      <td>S100</td>\n",
       "      <td>Woodlands Road</td>\n",
       "      <td>1.41720</td>\n",
       "      <td>103.74855</td>\n",
       "      <td>32.0</td>\n",
       "    </tr>\n",
       "    <tr>\n",
       "      <th>2</th>\n",
       "      <td>2022-01-01</td>\n",
       "      <td>S104</td>\n",
       "      <td>Woodlands Avenue 9</td>\n",
       "      <td>1.44387</td>\n",
       "      <td>103.78538</td>\n",
       "      <td>17.0</td>\n",
       "    </tr>\n",
       "    <tr>\n",
       "      <th>3</th>\n",
       "      <td>2022-01-01</td>\n",
       "      <td>S106</td>\n",
       "      <td>Pulau Ubin</td>\n",
       "      <td>1.41680</td>\n",
       "      <td>103.96730</td>\n",
       "      <td>6.8</td>\n",
       "    </tr>\n",
       "    <tr>\n",
       "      <th>4</th>\n",
       "      <td>2022-01-01</td>\n",
       "      <td>S107</td>\n",
       "      <td>East Coast Parkway</td>\n",
       "      <td>1.31350</td>\n",
       "      <td>103.96250</td>\n",
       "      <td>13.6</td>\n",
       "    </tr>\n",
       "  </tbody>\n",
       "</table>\n",
       "</div>"
      ],
      "text/plain": [
       "         day station_id        station_name  latitude  longitude  \\\n",
       "0 2022-01-01        S08  Upper Thomson Road   1.37010  103.82710   \n",
       "1 2022-01-01       S100      Woodlands Road   1.41720  103.74855   \n",
       "2 2022-01-01       S104  Woodlands Avenue 9   1.44387  103.78538   \n",
       "3 2022-01-01       S106          Pulau Ubin   1.41680  103.96730   \n",
       "4 2022-01-01       S107  East Coast Parkway   1.31350  103.96250   \n",
       "\n",
       "   total_rainfall  \n",
       "0            36.8  \n",
       "1            32.0  \n",
       "2            17.0  \n",
       "3             6.8  \n",
       "4            13.6  "
      ]
     },
     "execution_count": 24,
     "metadata": {},
     "output_type": "execute_result"
    }
   ],
   "source": [
    "# load Data\n",
    "df = pd.read_csv(\"overall_rainfall_data.csv\")\n",
    "\n",
    "# Convert 'day' column to datetime\n",
    "df['day'] = pd.to_datetime(df['day'])\n",
    "\n",
    "\n",
    "df.head() #just inspecting the basic structure"
   ]
  },
  {
   "cell_type": "code",
   "execution_count": 25,
   "id": "e6ca4b9d-3779-4833-b267-3a16068b0023",
   "metadata": {},
   "outputs": [
    {
     "data": {
      "image/png": "[encoded data removed]",
      "text/plain": [
       "<Figure size 1200x600 with 1 Axes>"
      ]
     },
     "metadata": {},
     "output_type": "display_data"
    }
   ],
   "source": [
    "# bar chart for sanity check\n",
    "df['month'] = df['day'].dt.to_period('M')\n",
    "monthly_rainfall = df.groupby('month')['total_rainfall'].sum().reset_index()\n",
    "monthly_rainfall['month'] = monthly_rainfall['month'].astype(str)\n",
    "\n",
    "# plot\n",
    "sns.barplot(data=monthly_rainfall, x='month', y='total_rainfall', color='steelblue')\n",
    "plt.xticks(rotation=45)\n",
    "plt.title('☔ Total Rainfall per Month')\n",
    "plt.xlabel('Month')\n",
    "plt.ylabel('Rainfall (mm)')\n",
    "plt.tight_layout()\n",
    "plt.show()"
   ]
  },
  {
   "cell_type": "code",
   "execution_count": 26,
   "id": "d4dad9c8",
   "metadata": {},
   "outputs": [
    {
     "name": "stdout",
     "output_type": "stream",
     "text": [
      "✅ Heatmap saved as 'singapore_rainfall_heatmap.html'. Open this file in a browser to view it.\n"
     ]
    }
   ],
   "source": [
    "# heatmap for avg rainfall per Station\n",
    "avg_rainfall_by_station = df.groupby(['station_id', 'station_name', 'latitude', 'longitude'])['total_rainfall'].mean().reset_index()\n",
    "\n",
    "# Base map centered on Singapore\n",
    "map_sg = folium.Map(location=[1.3521, 103.8198], zoom_start=11)\n",
    "\n",
    "# Prepare heat data\n",
    "heat_data = [\n",
    "    [row['latitude'], row['longitude'], row['total_rainfall']]\n",
    "    for _, row in avg_rainfall_by_station.iterrows()\n",
    "]\n",
    "\n",
    "# Add heatmap layer\n",
    "HeatMap(heat_data, radius=12).add_to(map_sg)\n",
    "\n",
    "# Save the map as HTML and show link to it\n",
    "map_sg.save(\"singapore_rainfall_heatmap.html\")\n",
    "print(\"✅ Heatmap saved as 'singapore_rainfall_heatmap.html'. Open this file in a browser to view it.\")"
   ]
  },
  {
   "cell_type": "markdown",
   "id": "e4621235",
   "metadata": {},
   "source": [
    "### humidity data viz ###"
   ]
  },
  {
   "cell_type": "code",
   "execution_count": 27,
   "id": "38eead9c",
   "metadata": {},
   "outputs": [],
   "source": [
    "import pandas as pd\n",
    "import matplotlib.pyplot as plt\n",
    "import seaborn as sns\n",
    "import folium\n",
    "from folium.plugins import HeatMap\n",
    "\n",
    "# Optional for larger visualizations\n",
    "%matplotlib inline\n",
    "plt.rcParams['figure.figsize'] = (12, 6)"
   ]
  },
  {
   "cell_type": "code",
   "execution_count": 28,
   "id": "3ca5d1e5",
   "metadata": {},
   "outputs": [
    {
     "data": {
      "text/html": [
       "<div>\n",
       "<style scoped>\n",
       "    .dataframe tbody tr th:only-of-type {\n",
       "        vertical-align: middle;\n",
       "    }\n",
       "\n",
       "    .dataframe tbody tr th {\n",
       "        vertical-align: top;\n",
       "    }\n",
       "\n",
       "    .dataframe thead th {\n",
       "        text-align: right;\n",
       "    }\n",
       "</style>\n",
       "<table border=\"1\" class=\"dataframe\">\n",
       "  <thead>\n",
       "    <tr style=\"text-align: right;\">\n",
       "      <th></th>\n",
       "      <th>day</th>\n",
       "      <th>station_id</th>\n",
       "      <th>station_name</th>\n",
       "      <th>latitude</th>\n",
       "      <th>longitude</th>\n",
       "      <th>aggregated_value</th>\n",
       "    </tr>\n",
       "  </thead>\n",
       "  <tbody>\n",
       "    <tr>\n",
       "      <th>0</th>\n",
       "      <td>2022-01-01</td>\n",
       "      <td>S109</td>\n",
       "      <td>Ang Mo Kio Avenue 5</td>\n",
       "      <td>1.3764</td>\n",
       "      <td>103.8492</td>\n",
       "      <td>87.795480</td>\n",
       "    </tr>\n",
       "    <tr>\n",
       "      <th>1</th>\n",
       "      <td>2022-01-01</td>\n",
       "      <td>S50</td>\n",
       "      <td>Clementi Road</td>\n",
       "      <td>1.3337</td>\n",
       "      <td>103.7768</td>\n",
       "      <td>89.294715</td>\n",
       "    </tr>\n",
       "    <tr>\n",
       "      <th>2</th>\n",
       "      <td>2022-01-01</td>\n",
       "      <td>S107</td>\n",
       "      <td>East Coast Parkway</td>\n",
       "      <td>1.3135</td>\n",
       "      <td>103.9625</td>\n",
       "      <td>88.630523</td>\n",
       "    </tr>\n",
       "    <tr>\n",
       "      <th>3</th>\n",
       "      <td>2022-01-01</td>\n",
       "      <td>S43</td>\n",
       "      <td>Kim Chuan Road</td>\n",
       "      <td>1.3399</td>\n",
       "      <td>103.8878</td>\n",
       "      <td>86.613908</td>\n",
       "    </tr>\n",
       "    <tr>\n",
       "      <th>4</th>\n",
       "      <td>2022-01-01</td>\n",
       "      <td>S108</td>\n",
       "      <td>Marina Gardens Drive</td>\n",
       "      <td>1.2799</td>\n",
       "      <td>103.8703</td>\n",
       "      <td>97.547636</td>\n",
       "    </tr>\n",
       "  </tbody>\n",
       "</table>\n",
       "</div>"
      ],
      "text/plain": [
       "         day station_id          station_name  latitude  longitude  \\\n",
       "0 2022-01-01       S109   Ang Mo Kio Avenue 5    1.3764   103.8492   \n",
       "1 2022-01-01        S50         Clementi Road    1.3337   103.7768   \n",
       "2 2022-01-01       S107    East Coast Parkway    1.3135   103.9625   \n",
       "3 2022-01-01        S43        Kim Chuan Road    1.3399   103.8878   \n",
       "4 2022-01-01       S108  Marina Gardens Drive    1.2799   103.8703   \n",
       "\n",
       "   aggregated_value  \n",
       "0         87.795480  \n",
       "1         89.294715  \n",
       "2         88.630523  \n",
       "3         86.613908  \n",
       "4         97.547636  "
      ]
     },
     "execution_count": 28,
     "metadata": {},
     "output_type": "execute_result"
    }
   ],
   "source": [
    "# load Data\n",
    "df = pd.read_csv(\"overall_humidity_data.csv\")\n",
    "\n",
    "# Convert 'day' column to datetime\n",
    "df['day'] = pd.to_datetime(df['day'])\n",
    "\n",
    "\n",
    "df.head() #just inspecting the basic structure"
   ]
  },
  {
   "cell_type": "code",
   "execution_count": 29,
   "id": "d8c7ad1e",
   "metadata": {},
   "outputs": [
    {
     "data": {
      "image/png": "[encoded data removed]",
      "text/plain": [
       "<Figure size 1200x600 with 1 Axes>"
      ]
     },
     "metadata": {},
     "output_type": "display_data"
    }
   ],
   "source": [
    "# bar chart for sanity check\n",
    "df['month'] = df['day'].dt.to_period('M')\n",
    "monthly_avg_humidity = df.groupby('month')['aggregated_value'].mean().reset_index()\n",
    "monthly_avg_humidity['month'] = monthly_avg_humidity['month'].astype(str)\n",
    "\n",
    "# plot\n",
    "sns.barplot(data=monthly_avg_humidity, x='month', y='aggregated_value', color='lightcoral')\n",
    "plt.xticks(rotation=45)\n",
    "plt.title('☁️ Average Humidity per Month')\n",
    "plt.xlabel('Month')\n",
    "plt.ylabel('Humidity (%)')\n",
    "plt.tight_layout()\n",
    "plt.show()"
   ]
  },
  {
   "cell_type": "code",
   "execution_count": 30,
   "id": "df0c6141",
   "metadata": {},
   "outputs": [
    {
     "name": "stdout",
     "output_type": "stream",
     "text": [
      "✅ Humidity heatmap saved as 'singapore_humidity_heatmap.html'.\n"
     ]
    }
   ],
   "source": [
    "# heatmap of avg humidity per station\n",
    "avg_humidity_by_station = df.groupby(['station_id', 'station_name', 'latitude', 'longitude'])['aggregated_value'].mean().reset_index()\n",
    "\n",
    "# base map centered on Singapore\n",
    "map_humidity = folium.Map(location=[1.3521, 103.8198], zoom_start=11)\n",
    "\n",
    "# prep heat data\n",
    "heat_data = [\n",
    "    [row['latitude'], row['longitude'], row['aggregated_value']]\n",
    "    for _, row in avg_humidity_by_station.iterrows()\n",
    "]\n",
    "\n",
    "# add heatmap layer & save the map as HTML and show link to it\n",
    "HeatMap(heat_data, radius=12).add_to(map_humidity)\n",
    "map_humidity.save(\"singapore_humidity_heatmap.html\")\n",
    "print(\"✅ Humidity heatmap saved as 'singapore_humidity_heatmap.html'.\")"
   ]
  }
 ],
 "metadata": {
  "kernelspec": {
   "display_name": "nus_base",
   "language": "python",
   "name": "python3"
  },
  "language_info": {
   "codemirror_mode": {
    "name": "ipython",
    "version": 3
   },
   "file_extension": ".py",
   "mimetype": "text/x-python",
   "name": "python",
   "nbconvert_exporter": "python",
   "pygments_lexer": "ipython3",
   "version": "3.13.2"
  }
 },
 "nbformat": 4,
 "nbformat_minor": 5
}
